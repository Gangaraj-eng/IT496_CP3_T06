{
 "cells": [
  {
   "cell_type": "markdown",
   "metadata": {},
   "source": [
    "# <font size=6 color='green'><center>**IT 496 - Introduction to Data Mining**</center></font>\n",
    "### **<center>Course Project - 03<br/><br/>ICC Cricket World Cup 2023 ML Challange<center>**\n",
    "\n",
    " &emsp; **Group Name : <font color='#0099ff'>DataForce</font>** <br/>\n",
    " &emsp; **Group ID : <font color='#0099ff'>T06</font>**"
   ]
  },
  {
   "cell_type": "markdown",
   "metadata": {},
   "source": [
    "**Problem Statement**: Given two teams name and the venue where the match will be held, the model will predict the winning team"
   ]
  },
  {
   "cell_type": "markdown",
   "metadata": {},
   "source": [
    "To do this, parameters like ICC ODI rankings of both the teams, the average run rate of the teams(which is calcualted using the average performance of all the players in the team), matches played, average win rate of the team and so on which is collected from the last 6 world cup matches and the last 7 odi matches"
   ]
  },
  {
   "cell_type": "code",
   "execution_count": 1,
   "metadata": {},
   "outputs": [],
   "source": [
    "# importing libraries\n",
    "import numpy as np\n",
    "import pandas as pd\n",
    "import matplotlib.pyplot as plt"
   ]
  },
  {
   "cell_type": "code",
   "execution_count": 2,
   "metadata": {},
   "outputs": [
    {
     "data": {
      "text/html": [
       "<div>\n",
       "<style scoped>\n",
       "    .dataframe tbody tr th:only-of-type {\n",
       "        vertical-align: middle;\n",
       "    }\n",
       "\n",
       "    .dataframe tbody tr th {\n",
       "        vertical-align: top;\n",
       "    }\n",
       "\n",
       "    .dataframe thead th {\n",
       "        text-align: right;\n",
       "    }\n",
       "</style>\n",
       "<table border=\"1\" class=\"dataframe\">\n",
       "  <thead>\n",
       "    <tr style=\"text-align: right;\">\n",
       "      <th></th>\n",
       "      <th>season</th>\n",
       "      <th>team1</th>\n",
       "      <th>team2</th>\n",
       "      <th>date</th>\n",
       "      <th>winner</th>\n",
       "      <th>Venue</th>\n",
       "    </tr>\n",
       "  </thead>\n",
       "  <tbody>\n",
       "    <tr>\n",
       "      <th>0</th>\n",
       "      <td>2023</td>\n",
       "      <td>England</td>\n",
       "      <td>New Zealand</td>\n",
       "      <td>2023/10/05</td>\n",
       "      <td>New Zealand</td>\n",
       "      <td>Narendra Modi Stadium, Ahmedabad</td>\n",
       "    </tr>\n",
       "    <tr>\n",
       "      <th>1</th>\n",
       "      <td>2023</td>\n",
       "      <td>Pakistan</td>\n",
       "      <td>Netherlands</td>\n",
       "      <td>2023/10/06</td>\n",
       "      <td>Pakistan</td>\n",
       "      <td>Rajiv Gandhi International Stadium, Hyderabad</td>\n",
       "    </tr>\n",
       "    <tr>\n",
       "      <th>2</th>\n",
       "      <td>2023</td>\n",
       "      <td>Afghanistan</td>\n",
       "      <td>Bangladesh</td>\n",
       "      <td>2023/10/07</td>\n",
       "      <td>Bangladesh</td>\n",
       "      <td>Himachal Pradesh Cricket Association Stadium, ...</td>\n",
       "    </tr>\n",
       "    <tr>\n",
       "      <th>3</th>\n",
       "      <td>2023</td>\n",
       "      <td>South Africa</td>\n",
       "      <td>Sri Lanka</td>\n",
       "      <td>2023/10/07</td>\n",
       "      <td>South Africa</td>\n",
       "      <td>Arun Jaitley Stadium, Delhi</td>\n",
       "    </tr>\n",
       "    <tr>\n",
       "      <th>4</th>\n",
       "      <td>2023</td>\n",
       "      <td>Australia</td>\n",
       "      <td>India</td>\n",
       "      <td>2023/10/08</td>\n",
       "      <td>India</td>\n",
       "      <td>MA Chidambaram Stadium, Chennai</td>\n",
       "    </tr>\n",
       "  </tbody>\n",
       "</table>\n",
       "</div>"
      ],
      "text/plain": [
       "   season         team1        team2        date        winner  \\\n",
       "0    2023       England  New Zealand  2023/10/05   New Zealand   \n",
       "1    2023      Pakistan  Netherlands  2023/10/06      Pakistan   \n",
       "2    2023   Afghanistan   Bangladesh  2023/10/07    Bangladesh   \n",
       "3    2023  South Africa    Sri Lanka  2023/10/07  South Africa   \n",
       "4    2023     Australia        India  2023/10/08         India   \n",
       "\n",
       "                                               Venue  \n",
       "0                   Narendra Modi Stadium, Ahmedabad  \n",
       "1      Rajiv Gandhi International Stadium, Hyderabad  \n",
       "2  Himachal Pradesh Cricket Association Stadium, ...  \n",
       "3                        Arun Jaitley Stadium, Delhi  \n",
       "4                    MA Chidambaram Stadium, Chennai  "
      ]
     },
     "execution_count": 2,
     "metadata": {},
     "output_type": "execute_result"
    }
   ],
   "source": [
    "matches_data = pd.read_csv('../Dataset/Matches_stats.csv')\n",
    "matches_data.head()"
   ]
  },
  {
   "cell_type": "code",
   "execution_count": 3,
   "metadata": {},
   "outputs": [
    {
     "data": {
      "text/html": [
       "<div>\n",
       "<style scoped>\n",
       "    .dataframe tbody tr th:only-of-type {\n",
       "        vertical-align: middle;\n",
       "    }\n",
       "\n",
       "    .dataframe tbody tr th {\n",
       "        vertical-align: top;\n",
       "    }\n",
       "\n",
       "    .dataframe thead th {\n",
       "        text-align: right;\n",
       "    }\n",
       "</style>\n",
       "<table border=\"1\" class=\"dataframe\">\n",
       "  <thead>\n",
       "    <tr style=\"text-align: right;\">\n",
       "      <th></th>\n",
       "      <th>Team Name</th>\n",
       "      <th>Team ID</th>\n",
       "      <th>ICC Ranking(ODI)</th>\n",
       "      <th>Matches</th>\n",
       "      <th>Avg Score</th>\n",
       "      <th>Avg Wickets</th>\n",
       "      <th>Avg Catches</th>\n",
       "      <th>Avg Fours</th>\n",
       "      <th>Avg Sixes</th>\n",
       "      <th>Avg Half Centuries</th>\n",
       "      <th>Avg Centuries</th>\n",
       "    </tr>\n",
       "  </thead>\n",
       "  <tbody>\n",
       "    <tr>\n",
       "      <th>0</th>\n",
       "      <td>Afghanistan</td>\n",
       "      <td>1</td>\n",
       "      <td>9</td>\n",
       "      <td>28</td>\n",
       "      <td>20.898438</td>\n",
       "      <td>58.206061</td>\n",
       "      <td>18.333333</td>\n",
       "      <td>89.933333</td>\n",
       "      <td>24.000000</td>\n",
       "      <td>1.133333</td>\n",
       "      <td>6.600000</td>\n",
       "    </tr>\n",
       "    <tr>\n",
       "      <th>1</th>\n",
       "      <td>Australia</td>\n",
       "      <td>2</td>\n",
       "      <td>2</td>\n",
       "      <td>38</td>\n",
       "      <td>23.453834</td>\n",
       "      <td>59.333333</td>\n",
       "      <td>34.600000</td>\n",
       "      <td>191.333333</td>\n",
       "      <td>47.266667</td>\n",
       "      <td>4.532184</td>\n",
       "      <td>12.677273</td>\n",
       "    </tr>\n",
       "    <tr>\n",
       "      <th>2</th>\n",
       "      <td>Bangladesh</td>\n",
       "      <td>3</td>\n",
       "      <td>8</td>\n",
       "      <td>43</td>\n",
       "      <td>22.764610</td>\n",
       "      <td>69.376970</td>\n",
       "      <td>24.666667</td>\n",
       "      <td>164.933333</td>\n",
       "      <td>24.066667</td>\n",
       "      <td>2.812644</td>\n",
       "      <td>12.140404</td>\n",
       "    </tr>\n",
       "    <tr>\n",
       "      <th>3</th>\n",
       "      <td>England</td>\n",
       "      <td>4</td>\n",
       "      <td>6</td>\n",
       "      <td>36</td>\n",
       "      <td>25.688889</td>\n",
       "      <td>77.139394</td>\n",
       "      <td>29.866667</td>\n",
       "      <td>190.333333</td>\n",
       "      <td>44.133333</td>\n",
       "      <td>4.000000</td>\n",
       "      <td>9.200000</td>\n",
       "    </tr>\n",
       "    <tr>\n",
       "      <th>4</th>\n",
       "      <td>India</td>\n",
       "      <td>5</td>\n",
       "      <td>1</td>\n",
       "      <td>52</td>\n",
       "      <td>25.180872</td>\n",
       "      <td>85.376970</td>\n",
       "      <td>38.800000</td>\n",
       "      <td>244.555705</td>\n",
       "      <td>55.894855</td>\n",
       "      <td>8.437931</td>\n",
       "      <td>16.080808</td>\n",
       "    </tr>\n",
       "  </tbody>\n",
       "</table>\n",
       "</div>"
      ],
      "text/plain": [
       "     Team Name  Team ID  ICC Ranking(ODI)  Matches  Avg Score  Avg Wickets  \\\n",
       "0  Afghanistan        1                 9       28  20.898438    58.206061   \n",
       "1    Australia        2                 2       38  23.453834    59.333333   \n",
       "2   Bangladesh        3                 8       43  22.764610    69.376970   \n",
       "3      England        4                 6       36  25.688889    77.139394   \n",
       "4        India        5                 1       52  25.180872    85.376970   \n",
       "\n",
       "   Avg Catches   Avg Fours  Avg Sixes  Avg Half Centuries  Avg Centuries  \n",
       "0    18.333333   89.933333  24.000000            1.133333       6.600000  \n",
       "1    34.600000  191.333333  47.266667            4.532184      12.677273  \n",
       "2    24.666667  164.933333  24.066667            2.812644      12.140404  \n",
       "3    29.866667  190.333333  44.133333            4.000000       9.200000  \n",
       "4    38.800000  244.555705  55.894855            8.437931      16.080808  "
      ]
     },
     "execution_count": 3,
     "metadata": {},
     "output_type": "execute_result"
    }
   ],
   "source": [
    "team_stats = pd.read_csv('../Dataset/ICC_Team_Stats.csv')\n",
    "team_stats.head()"
   ]
  },
  {
   "cell_type": "code",
   "execution_count": 4,
   "metadata": {},
   "outputs": [
    {
     "data": {
      "text/html": [
       "<div>\n",
       "<style scoped>\n",
       "    .dataframe tbody tr th:only-of-type {\n",
       "        vertical-align: middle;\n",
       "    }\n",
       "\n",
       "    .dataframe tbody tr th {\n",
       "        vertical-align: top;\n",
       "    }\n",
       "\n",
       "    .dataframe thead th {\n",
       "        text-align: right;\n",
       "    }\n",
       "</style>\n",
       "<table border=\"1\" class=\"dataframe\">\n",
       "  <thead>\n",
       "    <tr style=\"text-align: right;\">\n",
       "      <th></th>\n",
       "      <th>Team Name</th>\n",
       "      <th>Team ID</th>\n",
       "      <th>ICC Ranking(ODI)</th>\n",
       "      <th>Matches</th>\n",
       "    </tr>\n",
       "  </thead>\n",
       "  <tbody>\n",
       "    <tr>\n",
       "      <th>0</th>\n",
       "      <td>Afghanistan</td>\n",
       "      <td>1</td>\n",
       "      <td>9</td>\n",
       "      <td>28</td>\n",
       "    </tr>\n",
       "    <tr>\n",
       "      <th>1</th>\n",
       "      <td>Australia</td>\n",
       "      <td>2</td>\n",
       "      <td>2</td>\n",
       "      <td>38</td>\n",
       "    </tr>\n",
       "    <tr>\n",
       "      <th>2</th>\n",
       "      <td>Bangladesh</td>\n",
       "      <td>3</td>\n",
       "      <td>8</td>\n",
       "      <td>43</td>\n",
       "    </tr>\n",
       "    <tr>\n",
       "      <th>3</th>\n",
       "      <td>England</td>\n",
       "      <td>4</td>\n",
       "      <td>6</td>\n",
       "      <td>36</td>\n",
       "    </tr>\n",
       "    <tr>\n",
       "      <th>4</th>\n",
       "      <td>India</td>\n",
       "      <td>5</td>\n",
       "      <td>1</td>\n",
       "      <td>52</td>\n",
       "    </tr>\n",
       "  </tbody>\n",
       "</table>\n",
       "</div>"
      ],
      "text/plain": [
       "     Team Name  Team ID  ICC Ranking(ODI)  Matches\n",
       "0  Afghanistan        1                 9       28\n",
       "1    Australia        2                 2       38\n",
       "2   Bangladesh        3                 8       43\n",
       "3      England        4                 6       36\n",
       "4        India        5                 1       52"
      ]
     },
     "execution_count": 4,
     "metadata": {},
     "output_type": "execute_result"
    }
   ],
   "source": [
    "teams_data = pd.read_csv('../Dataset/ICC_23_Teams_List.csv')\n",
    "teams_data.head()"
   ]
  },
  {
   "cell_type": "markdown",
   "metadata": {},
   "source": [
    "Each team is given a unique team ID which will be used for label encoding"
   ]
  },
  {
   "cell_type": "code",
   "execution_count": 5,
   "metadata": {},
   "outputs": [
    {
     "data": {
      "text/plain": [
       "{'Afghanistan': 1,\n",
       " 'Australia': 2,\n",
       " 'Bangladesh': 3,\n",
       " 'England': 4,\n",
       " 'India': 5,\n",
       " 'Netherlands': 6,\n",
       " 'New Zealand': 7,\n",
       " 'Pakistan': 8,\n",
       " 'South Africa': 9,\n",
       " 'Sri Lanka': 10}"
      ]
     },
     "execution_count": 5,
     "metadata": {},
     "output_type": "execute_result"
    }
   ],
   "source": [
    "teams_mapping={}\n",
    "for index,row in teams_data.iterrows():\n",
    "  teams_mapping[row['Team Name']] = row['Team ID']\n",
    "teams_mapping"
   ]
  },
  {
   "cell_type": "markdown",
   "metadata": {},
   "source": [
    "Similar mapping should be done for all the Venues"
   ]
  },
  {
   "cell_type": "code",
   "execution_count": 6,
   "metadata": {},
   "outputs": [
    {
     "data": {
      "text/html": [
       "<div>\n",
       "<style scoped>\n",
       "    .dataframe tbody tr th:only-of-type {\n",
       "        vertical-align: middle;\n",
       "    }\n",
       "\n",
       "    .dataframe tbody tr th {\n",
       "        vertical-align: top;\n",
       "    }\n",
       "\n",
       "    .dataframe thead th {\n",
       "        text-align: right;\n",
       "    }\n",
       "</style>\n",
       "<table border=\"1\" class=\"dataframe\">\n",
       "  <thead>\n",
       "    <tr style=\"text-align: right;\">\n",
       "      <th></th>\n",
       "      <th>Venue</th>\n",
       "      <th>venue ID</th>\n",
       "    </tr>\n",
       "  </thead>\n",
       "  <tbody>\n",
       "    <tr>\n",
       "      <th>0</th>\n",
       "      <td>Narendra Modi Stadium, Ahmedabad</td>\n",
       "      <td>1</td>\n",
       "    </tr>\n",
       "    <tr>\n",
       "      <th>1</th>\n",
       "      <td>Rajiv Gandhi International Stadium, Hyderabad</td>\n",
       "      <td>2</td>\n",
       "    </tr>\n",
       "    <tr>\n",
       "      <th>2</th>\n",
       "      <td>Himachal Pradesh Cricket Association Stadium, ...</td>\n",
       "      <td>3</td>\n",
       "    </tr>\n",
       "    <tr>\n",
       "      <th>3</th>\n",
       "      <td>Arun Jaitley Stadium, Delhi</td>\n",
       "      <td>4</td>\n",
       "    </tr>\n",
       "    <tr>\n",
       "      <th>4</th>\n",
       "      <td>MA Chidambaram Stadium, Chennai</td>\n",
       "      <td>5</td>\n",
       "    </tr>\n",
       "  </tbody>\n",
       "</table>\n",
       "</div>"
      ],
      "text/plain": [
       "                                               Venue  venue ID\n",
       "0                   Narendra Modi Stadium, Ahmedabad         1\n",
       "1      Rajiv Gandhi International Stadium, Hyderabad         2\n",
       "2  Himachal Pradesh Cricket Association Stadium, ...         3\n",
       "3                        Arun Jaitley Stadium, Delhi         4\n",
       "4                    MA Chidambaram Stadium, Chennai         5"
      ]
     },
     "execution_count": 6,
     "metadata": {},
     "output_type": "execute_result"
    }
   ],
   "source": [
    "venues_data = pd.read_csv('../Dataset/ICC_VenuesList.csv')\n",
    "venues_data.head()"
   ]
  },
  {
   "cell_type": "code",
   "execution_count": 8,
   "metadata": {},
   "outputs": [
    {
     "data": {
      "text/plain": [
       "{'Narendra Modi Stadium, Ahmedabad': 1,\n",
       " 'Rajiv Gandhi International Stadium, Hyderabad': 2,\n",
       " 'Himachal Pradesh Cricket Association Stadium, Dharamsala': 3,\n",
       " 'Arun Jaitley Stadium, Delhi': 4,\n",
       " 'MA Chidambaram Stadium, Chennai': 5,\n",
       " 'Bharat Ratna Shri Atal Bihari Vajpayee Ekana Cricket Stadium, Lucknow': 6,\n",
       " 'Maharashtra Cricket Association Stadium, Pune': 7,\n",
       " 'M Chinnaswamy Stadium, Bengaluru': 8,\n",
       " 'Wankhede Stadium, Mumbai': 9,\n",
       " 'Eden Gardens, Kolkata': 10,\n",
       " 'The Cooper Associates County Ground, Taunton': 11,\n",
       " 'Emirates Old Trafford, Manchester': 12,\n",
       " 'Headingley, Leeds': 13,\n",
       " 'Sophia Gardens, Cardiff': 14,\n",
       " 'Kennington Oval, London': 15,\n",
       " 'County Ground, Bristol': 16,\n",
       " 'Edgbaston, Birmingham': 17,\n",
       " 'Trent Bridge, Nottingham': 18,\n",
       " \"Lord's, London\": 19,\n",
       " 'Riverside Ground, Chester-le-Street': 20,\n",
       " 'The Rose Bowl, Southampton': 21,\n",
       " 'Saxton Oval, Nelson': 22,\n",
       " 'The Gabba, Brisbane': 23,\n",
       " 'Manuka Oval, Canberra': 24,\n",
       " 'McLean Park, Napier': 25,\n",
       " 'Adelaide Oval, Adelaide': 26,\n",
       " 'Seddon Park, Hamilton': 27,\n",
       " 'University Oval, Dunedin': 28,\n",
       " 'Hagley Oval, Christchurch': 29,\n",
       " 'Melbourne Cricket Ground, Melbourne': 30,\n",
       " 'Sydney Cricket Ground, Sydney': 31,\n",
       " 'Bellerive Oval, Hobart': 32,\n",
       " 'Sky Stadium, Wellington': 33,\n",
       " 'Eden Park, Auckland': 34,\n",
       " 'W.A.C.A. Ground, Perth': 35,\n",
       " 'R.Premadasa Stadium, Colombo': 36,\n",
       " 'Punjab Cricket Association IS Bindra Stadium, Mohali': 37,\n",
       " 'Zahur Ahmed Chowdhury Stadium, Chattogram': 38,\n",
       " 'Mahinda Rajapaksa International Stadium, Hambantota': 39,\n",
       " 'Narendra Modi Stadium A Ground, Ahmedabad': 40,\n",
       " 'M.Chinnaswamy Stadium, Bengaluru': 41,\n",
       " 'Shere Bangla National Stadium, Dhaka': 42,\n",
       " 'Pallekele International Cricket Stadium, Pallekele': 43,\n",
       " 'Vidarbha Cricket Association Stadium, Nagpur': 44,\n",
       " 'Boland Park, Paarl': 45,\n",
       " 'Newlands, Cape Town': 46,\n",
       " 'Buffalo Park, East London': 47,\n",
       " 'Diamond Oval, Kimberley': 48,\n",
       " 'Mangaung Oval, Bloemfontein': 49,\n",
       " 'The Wanderers Stadium, Johannesburg': 50,\n",
       " 'Harare Sports Club, Harare': 51,\n",
       " 'City Oval, Pietermaritzburg': 52,\n",
       " 'SuperSport Park, Centurion': 53,\n",
       " 'Kingsmead, Durban': 54,\n",
       " 'Senwes Park, Potchefstroom': 55,\n",
       " \"St George's Park, Gqeberha\": 56,\n",
       " 'Willowmoore Park, Benoni': 57,\n",
       " 'Queens Sports Club, Bulawayo': 58,\n",
       " 'Gymkhana Club Ground, Nairobi': 59,\n",
       " 'Grace Road, Leicester': 60,\n",
       " 'County Ground, Chelmsford': 61,\n",
       " 'County Ground, Northampton': 62,\n",
       " 'New Road, Worcester': 63,\n",
       " 'County Ground, Southampton': 64,\n",
       " 'Grange Cricket Club, Edinburgh': 65,\n",
       " 'County Ground, Derby': 66,\n",
       " 'VRA Cricket Ground, Amstelveen': 67,\n",
       " 'Castle Avenue, Dublin': 68,\n",
       " 'County Ground, Brighton': 69,\n",
       " 'St Lawrence Ground, Canterbury': 70,\n",
       " 'Daren Sammy National Cricket Stadium, Gros Islet, St Lucia': 71,\n",
       " 'Warner Park, Basseterre, St Kitts': 72,\n",
       " \"Queen's Park Oval, Port of Spain, Trinidad\": 73,\n",
       " 'Providence Stadium, Guyana': 74,\n",
       " 'Sir Vivian Richards Stadium, North Sound, Antigua': 75,\n",
       " 'Kensington Oval, Bridgetown, Barbados': 76,\n",
       " \"National Cricket Stadium, St George's, Grenada\": 77,\n",
       " 'Sabina Park, Kingston, Jamaica': 78,\n",
       " 'Bay Oval, Mount Maunganui': 79,\n",
       " 'Rajiv Gandhi International Cricket Stadium, Hyderabad': 80,\n",
       " 'JSCA International Stadium, Ranchi': 81,\n",
       " 'Sharjah Cricket Stadium, Sharjah': 82,\n",
       " 'Sheikh Zayed Cricket Stadium, Abu Dhabi': 83,\n",
       " 'DSC, Dubai': 84,\n",
       " 'The Oval, Surrey': 85,\n",
       " 'National Stadium, Karachi': 86,\n",
       " 'Saurashtra Cricket Association Stadium, Rajkot': 87,\n",
       " 'Mirpur Stadium, Mirpur': 88,\n",
       " 'West End Park, Doha': 89,\n",
       " 'Gaddafi Stadium, Lahore': 90,\n",
       " 'VRA Cricket Ground, Amstelveenbb': 91,\n",
       " 'Hazelaarweg Stadion , Rotterdam': 92,\n",
       " 'Cairns Stadium, Cairns': 93,\n",
       " 'ASA, Guwahati': 94,\n",
       " 'Greenfield, Thiruvananthapuram': 95,\n",
       " 'Shaheed Veer Narayan, Raipur': 96,\n",
       " 'Indore Stadium, Indore': 97,\n",
       " 'ACA-VDCA, Visakhapatnam': 98,\n",
       " 'Rawalpindi Stadium, Rawalpindi': 99,\n",
       " 'Dambulla': 100,\n",
       " 'Barabati Stadium, Cuttack': 101,\n",
       " 'Malahide, Dublin': 102,\n",
       " 'Kanpur': 103,\n",
       " 'Providence Stadium, Providence': 104,\n",
       " 'Basseterre, Basseterre': 105,\n",
       " 'Kensington Oval, Bridgetown': 106}"
      ]
     },
     "execution_count": 8,
     "metadata": {},
     "output_type": "execute_result"
    }
   ],
   "source": [
    "venues_mapping = {}\n",
    "for index,row in venues_data.iterrows():\n",
    "  venues_mapping[row['Venue']] = row['venue ID']\n",
    "venues_mapping"
   ]
  },
  {
   "cell_type": "markdown",
   "metadata": {},
   "source": [
    "Adding teamwise statistics in matches data"
   ]
  },
  {
   "cell_type": "code",
   "execution_count": 9,
   "metadata": {},
   "outputs": [],
   "source": [
    "additional_cols1 = ['team1 avg score','team1 avg wickets','team1 avg catches','team1 avg fours',\n",
    "                   'team1 avg sixes','team1 odi rank']\n",
    "additional_cols1 = ['team2 avg score','team2 avg wickets','team2 avg catches','team2 avg fours',\n",
    "                   'team2 avg sixes','team2 odi rank']\n",
    "mapped_cols = ['Avg Score','Avg Wickets','Avg Catches','Avg Fours','Avg Sixes','ICC Ranking(ODI)']"
   ]
  },
  {
   "cell_type": "code",
   "execution_count": 10,
   "metadata": {},
   "outputs": [],
   "source": [
    "def getTeamData(team):\n",
    "    return team_stats[team_stats['Team Name']==team][mapped_cols].values"
   ]
  },
  {
   "cell_type": "code",
   "execution_count": 11,
   "metadata": {},
   "outputs": [
    {
     "data": {
      "text/html": [
       "<div>\n",
       "<style scoped>\n",
       "    .dataframe tbody tr th:only-of-type {\n",
       "        vertical-align: middle;\n",
       "    }\n",
       "\n",
       "    .dataframe tbody tr th {\n",
       "        vertical-align: top;\n",
       "    }\n",
       "\n",
       "    .dataframe thead th {\n",
       "        text-align: right;\n",
       "    }\n",
       "</style>\n",
       "<table border=\"1\" class=\"dataframe\">\n",
       "  <thead>\n",
       "    <tr style=\"text-align: right;\">\n",
       "      <th></th>\n",
       "      <th>season</th>\n",
       "      <th>team1</th>\n",
       "      <th>team2</th>\n",
       "      <th>date</th>\n",
       "      <th>winner</th>\n",
       "      <th>Venue</th>\n",
       "      <th>team2 avg score</th>\n",
       "      <th>team2 avg wickets</th>\n",
       "      <th>team2 avg catches</th>\n",
       "      <th>team2 avg fours</th>\n",
       "      <th>team2 avg sixes</th>\n",
       "      <th>team2 odi rank</th>\n",
       "    </tr>\n",
       "  </thead>\n",
       "  <tbody>\n",
       "    <tr>\n",
       "      <th>0</th>\n",
       "      <td>2023</td>\n",
       "      <td>England</td>\n",
       "      <td>New Zealand</td>\n",
       "      <td>2023/10/05</td>\n",
       "      <td>1</td>\n",
       "      <td>Narendra Modi Stadium, Ahmedabad</td>\n",
       "      <td>18.430865</td>\n",
       "      <td>72.762424</td>\n",
       "      <td>27.533333</td>\n",
       "      <td>121.666667</td>\n",
       "      <td>25.133333</td>\n",
       "      <td>5.0</td>\n",
       "    </tr>\n",
       "    <tr>\n",
       "      <th>1</th>\n",
       "      <td>2023</td>\n",
       "      <td>Pakistan</td>\n",
       "      <td>Netherlands</td>\n",
       "      <td>2023/10/06</td>\n",
       "      <td>0</td>\n",
       "      <td>Rajiv Gandhi International Stadium, Hyderabad</td>\n",
       "      <td>20.506234</td>\n",
       "      <td>41.101818</td>\n",
       "      <td>6.866667</td>\n",
       "      <td>48.466667</td>\n",
       "      <td>8.600000</td>\n",
       "      <td>14.0</td>\n",
       "    </tr>\n",
       "    <tr>\n",
       "      <th>2</th>\n",
       "      <td>2023</td>\n",
       "      <td>Afghanistan</td>\n",
       "      <td>Bangladesh</td>\n",
       "      <td>2023/10/07</td>\n",
       "      <td>1</td>\n",
       "      <td>Himachal Pradesh Cricket Association Stadium, ...</td>\n",
       "      <td>22.764610</td>\n",
       "      <td>69.376970</td>\n",
       "      <td>24.666667</td>\n",
       "      <td>164.933333</td>\n",
       "      <td>24.066667</td>\n",
       "      <td>8.0</td>\n",
       "    </tr>\n",
       "    <tr>\n",
       "      <th>3</th>\n",
       "      <td>2023</td>\n",
       "      <td>South Africa</td>\n",
       "      <td>Sri Lanka</td>\n",
       "      <td>2023/10/07</td>\n",
       "      <td>0</td>\n",
       "      <td>Arun Jaitley Stadium, Delhi</td>\n",
       "      <td>22.910765</td>\n",
       "      <td>37.110303</td>\n",
       "      <td>15.133333</td>\n",
       "      <td>109.000000</td>\n",
       "      <td>15.400000</td>\n",
       "      <td>7.0</td>\n",
       "    </tr>\n",
       "    <tr>\n",
       "      <th>4</th>\n",
       "      <td>2023</td>\n",
       "      <td>Australia</td>\n",
       "      <td>India</td>\n",
       "      <td>2023/10/08</td>\n",
       "      <td>1</td>\n",
       "      <td>MA Chidambaram Stadium, Chennai</td>\n",
       "      <td>25.180872</td>\n",
       "      <td>85.376970</td>\n",
       "      <td>38.800000</td>\n",
       "      <td>244.555705</td>\n",
       "      <td>55.894855</td>\n",
       "      <td>1.0</td>\n",
       "    </tr>\n",
       "  </tbody>\n",
       "</table>\n",
       "</div>"
      ],
      "text/plain": [
       "   season         team1        team2        date winner  \\\n",
       "0    2023       England  New Zealand  2023/10/05      1   \n",
       "1    2023      Pakistan  Netherlands  2023/10/06      0   \n",
       "2    2023   Afghanistan   Bangladesh  2023/10/07      1   \n",
       "3    2023  South Africa    Sri Lanka  2023/10/07      0   \n",
       "4    2023     Australia        India  2023/10/08      1   \n",
       "\n",
       "                                               Venue  team2 avg score  \\\n",
       "0                   Narendra Modi Stadium, Ahmedabad        18.430865   \n",
       "1      Rajiv Gandhi International Stadium, Hyderabad        20.506234   \n",
       "2  Himachal Pradesh Cricket Association Stadium, ...        22.764610   \n",
       "3                        Arun Jaitley Stadium, Delhi        22.910765   \n",
       "4                    MA Chidambaram Stadium, Chennai        25.180872   \n",
       "\n",
       "   team2 avg wickets  team2 avg catches  team2 avg fours  team2 avg sixes  \\\n",
       "0          72.762424          27.533333       121.666667        25.133333   \n",
       "1          41.101818           6.866667        48.466667         8.600000   \n",
       "2          69.376970          24.666667       164.933333        24.066667   \n",
       "3          37.110303          15.133333       109.000000        15.400000   \n",
       "4          85.376970          38.800000       244.555705        55.894855   \n",
       "\n",
       "   team2 odi rank  \n",
       "0             5.0  \n",
       "1            14.0  \n",
       "2             8.0  \n",
       "3             7.0  \n",
       "4             1.0  "
      ]
     },
     "execution_count": 11,
     "metadata": {},
     "output_type": "execute_result"
    }
   ],
   "source": [
    "for index, row in matches_data.iterrows():\n",
    "  matches_data.loc[index,additional_cols1]=getTeamData(row['team1'])[0]\n",
    "  matches_data.loc[index,additional_cols1]=getTeamData(row['team2'])[0]\n",
    "\n",
    "  # labelling winner as (0,1) \n",
    "  # 0 - if team 1 winse, else 1\n",
    "  if row['team1']==row['winner']:\n",
    "    matches_data.loc[index,['winner']] = 0\n",
    "  else:\n",
    "    matches_data.loc[index,['winner']] = 1\n",
    "matches_data.head()"
   ]
  },
  {
   "cell_type": "markdown",
   "metadata": {},
   "source": [
    "Perform encoding for team names and venues"
   ]
  },
  {
   "cell_type": "code",
   "execution_count": 13,
   "metadata": {},
   "outputs": [
    {
     "data": {
      "text/html": [
       "<div>\n",
       "<style scoped>\n",
       "    .dataframe tbody tr th:only-of-type {\n",
       "        vertical-align: middle;\n",
       "    }\n",
       "\n",
       "    .dataframe tbody tr th {\n",
       "        vertical-align: top;\n",
       "    }\n",
       "\n",
       "    .dataframe thead th {\n",
       "        text-align: right;\n",
       "    }\n",
       "</style>\n",
       "<table border=\"1\" class=\"dataframe\">\n",
       "  <thead>\n",
       "    <tr style=\"text-align: right;\">\n",
       "      <th></th>\n",
       "      <th>season</th>\n",
       "      <th>team1</th>\n",
       "      <th>team2</th>\n",
       "      <th>date</th>\n",
       "      <th>winner</th>\n",
       "      <th>Venue</th>\n",
       "      <th>team2 avg score</th>\n",
       "      <th>team2 avg wickets</th>\n",
       "      <th>team2 avg catches</th>\n",
       "      <th>team2 avg fours</th>\n",
       "      <th>team2 avg sixes</th>\n",
       "      <th>team2 odi rank</th>\n",
       "    </tr>\n",
       "  </thead>\n",
       "  <tbody>\n",
       "    <tr>\n",
       "      <th>0</th>\n",
       "      <td>2023</td>\n",
       "      <td>4</td>\n",
       "      <td>7</td>\n",
       "      <td>2023/10/05</td>\n",
       "      <td>1</td>\n",
       "      <td>1</td>\n",
       "      <td>18.430865</td>\n",
       "      <td>72.762424</td>\n",
       "      <td>27.533333</td>\n",
       "      <td>121.666667</td>\n",
       "      <td>25.133333</td>\n",
       "      <td>5.0</td>\n",
       "    </tr>\n",
       "    <tr>\n",
       "      <th>1</th>\n",
       "      <td>2023</td>\n",
       "      <td>8</td>\n",
       "      <td>6</td>\n",
       "      <td>2023/10/06</td>\n",
       "      <td>0</td>\n",
       "      <td>2</td>\n",
       "      <td>20.506234</td>\n",
       "      <td>41.101818</td>\n",
       "      <td>6.866667</td>\n",
       "      <td>48.466667</td>\n",
       "      <td>8.600000</td>\n",
       "      <td>14.0</td>\n",
       "    </tr>\n",
       "    <tr>\n",
       "      <th>2</th>\n",
       "      <td>2023</td>\n",
       "      <td>1</td>\n",
       "      <td>3</td>\n",
       "      <td>2023/10/07</td>\n",
       "      <td>1</td>\n",
       "      <td>3</td>\n",
       "      <td>22.764610</td>\n",
       "      <td>69.376970</td>\n",
       "      <td>24.666667</td>\n",
       "      <td>164.933333</td>\n",
       "      <td>24.066667</td>\n",
       "      <td>8.0</td>\n",
       "    </tr>\n",
       "    <tr>\n",
       "      <th>3</th>\n",
       "      <td>2023</td>\n",
       "      <td>9</td>\n",
       "      <td>10</td>\n",
       "      <td>2023/10/07</td>\n",
       "      <td>0</td>\n",
       "      <td>4</td>\n",
       "      <td>22.910765</td>\n",
       "      <td>37.110303</td>\n",
       "      <td>15.133333</td>\n",
       "      <td>109.000000</td>\n",
       "      <td>15.400000</td>\n",
       "      <td>7.0</td>\n",
       "    </tr>\n",
       "    <tr>\n",
       "      <th>4</th>\n",
       "      <td>2023</td>\n",
       "      <td>2</td>\n",
       "      <td>5</td>\n",
       "      <td>2023/10/08</td>\n",
       "      <td>1</td>\n",
       "      <td>5</td>\n",
       "      <td>25.180872</td>\n",
       "      <td>85.376970</td>\n",
       "      <td>38.800000</td>\n",
       "      <td>244.555705</td>\n",
       "      <td>55.894855</td>\n",
       "      <td>1.0</td>\n",
       "    </tr>\n",
       "  </tbody>\n",
       "</table>\n",
       "</div>"
      ],
      "text/plain": [
       "   season  team1  team2        date winner  Venue  team2 avg score  \\\n",
       "0    2023      4      7  2023/10/05      1      1        18.430865   \n",
       "1    2023      8      6  2023/10/06      0      2        20.506234   \n",
       "2    2023      1      3  2023/10/07      1      3        22.764610   \n",
       "3    2023      9     10  2023/10/07      0      4        22.910765   \n",
       "4    2023      2      5  2023/10/08      1      5        25.180872   \n",
       "\n",
       "   team2 avg wickets  team2 avg catches  team2 avg fours  team2 avg sixes  \\\n",
       "0          72.762424          27.533333       121.666667        25.133333   \n",
       "1          41.101818           6.866667        48.466667         8.600000   \n",
       "2          69.376970          24.666667       164.933333        24.066667   \n",
       "3          37.110303          15.133333       109.000000        15.400000   \n",
       "4          85.376970          38.800000       244.555705        55.894855   \n",
       "\n",
       "   team2 odi rank  \n",
       "0             5.0  \n",
       "1            14.0  \n",
       "2             8.0  \n",
       "3             7.0  \n",
       "4             1.0  "
      ]
     },
     "execution_count": 13,
     "metadata": {},
     "output_type": "execute_result"
    }
   ],
   "source": [
    "matches_data['team1'] = matches_data['team1'].apply(lambda x:teams_mapping[x])\n",
    "matches_data['team2'] = matches_data['team2'].apply(lambda x:teams_mapping[x])\n",
    "matches_data['Venue'] = matches_data['Venue'].apply(lambda x:venues_mapping[x])\n",
    "matches_data.head()"
   ]
  },
  {
   "cell_type": "code",
   "execution_count": 29,
   "metadata": {},
   "outputs": [
    {
     "data": {
      "text/plain": [
       "(655, 11)"
      ]
     },
     "execution_count": 29,
     "metadata": {},
     "output_type": "execute_result"
    }
   ],
   "source": [
    "matches_data.shape"
   ]
  },
  {
   "cell_type": "markdown",
   "metadata": {},
   "source": [
    "Now the data is ready for training!!!"
   ]
  },
  {
   "cell_type": "code",
   "execution_count": 169,
   "metadata": {},
   "outputs": [],
   "source": [
    "from sklearn.model_selection import train_test_split\n",
    "from sklearn.metrics import accuracy_score\n",
    "from sklearn.preprocessing import RobustScaler\n",
    "from tensorflow import keras"
   ]
  },
  {
   "cell_type": "markdown",
   "metadata": {},
   "source": [
    "Train test split"
   ]
  },
  {
   "cell_type": "code",
   "execution_count": 170,
   "metadata": {},
   "outputs": [
    {
     "name": "stdout",
     "output_type": "stream",
     "text": [
      "(524, 10) (524,)\n",
      "(131, 10) (131,)\n"
     ]
    }
   ],
   "source": [
    "X_data = matches_data.drop('winner',axis=1)\n",
    "Y_data = matches_data['winner']\n",
    "xtrain,xtest,ytrain,ytest = train_test_split(X_data,Y_data,test_size=0.2,random_state=40,shuffle=True)\n",
    "print(xtrain.shape,ytrain.shape)\n",
    "print(xtest.shape,ytest.shape)"
   ]
  },
  {
   "cell_type": "code",
   "execution_count": 171,
   "metadata": {},
   "outputs": [
    {
     "name": "stdout",
     "output_type": "stream",
     "text": [
      "Shape of training data after normalizing = (524, 10)\n",
      "Shape of test data after normalizing = (131, 10)\n"
     ]
    }
   ],
   "source": [
    "# normalizing train and test sets seperately so that no information from\n",
    "# test set will be leaked\n",
    "scaler = RobustScaler()\n",
    "scaler.fit(xtrain)\n",
    "xtrain = scaler.transform(xtrain)\n",
    "xtest = scaler.transform(xtest)\n",
    "\n",
    "print(f\"Shape of training data after normalizing = {xtrain.shape}\")\n",
    "print(f\"Shape of test data after normalizing = {xtest.shape}\")"
   ]
  },
  {
   "cell_type": "code",
   "execution_count": 172,
   "metadata": {},
   "outputs": [],
   "source": [
    "from keras.utils import to_categorical \n",
    "\n",
    "xtrain=np.asarray(xtrain)\n",
    "ytrain=to_categorical(np.asarray(ytrain.astype('int')),num_classes=2)\n",
    "xtest=np.asarray(xtest)\n",
    "ytest=to_categorical(np.asarray(ytest.astype('int')),num_classes=2)"
   ]
  },
  {
   "cell_type": "markdown",
   "metadata": {},
   "source": [
    "Using a Neural Network for performing classification"
   ]
  },
  {
   "cell_type": "code",
   "execution_count": 221,
   "metadata": {},
   "outputs": [
    {
     "name": "stdout",
     "output_type": "stream",
     "text": [
      "Model: \"sequential_25\"\n",
      "_________________________________________________________________\n",
      " Layer (type)                Output Shape              Param #   \n",
      "=================================================================\n",
      " dense_106 (Dense)           (None, 100)               1100      \n",
      "                                                                 \n",
      " dense_107 (Dense)           (None, 50)                5050      \n",
      "                                                                 \n",
      " dense_108 (Dense)           (None, 20)                1020      \n",
      "                                                                 \n",
      " dense_109 (Dense)           (None, 2)                 42        \n",
      "                                                                 \n",
      "=================================================================\n",
      "Total params: 7,212\n",
      "Trainable params: 7,212\n",
      "Non-trainable params: 0\n",
      "_________________________________________________________________\n"
     ]
    }
   ],
   "source": [
    "from tensorflow import keras\n",
    "import tensorflow as tf\n",
    "\n",
    "# model building\n",
    "model=keras.models.Sequential()\n",
    "model.add(keras.layers.Dense(100,input_dim=10,activation='relu'))\n",
    "model.add(keras.layers.Dense(50,activation='relu'))\n",
    "model.add(keras.layers.Dense(20,activation='relu'))\n",
    "model.add(keras.layers.Dense(2,activation='softmax'))\n",
    "model.compile(loss='categorical_crossentropy',optimizer='adam',metrics=['accuracy'])\n",
    "model.summary()"
   ]
  },
  {
   "cell_type": "code",
   "execution_count": 225,
   "metadata": {},
   "outputs": [
    {
     "name": "stdout",
     "output_type": "stream",
     "text": [
      "Epoch 1/50\n",
      " 1/14 [=>............................] - ETA: 0s - loss: 1.0956 - accuracy: 0.5312"
     ]
    },
    {
     "name": "stdout",
     "output_type": "stream",
     "text": [
      "14/14 [==============================] - 0s 7ms/step - loss: 0.8642 - accuracy: 0.5326 - val_loss: 0.8343 - val_accuracy: 0.4937\n",
      "Epoch 2/50\n",
      "14/14 [==============================] - 0s 3ms/step - loss: 0.7097 - accuracy: 0.5573 - val_loss: 0.6301 - val_accuracy: 0.6709\n",
      "Epoch 3/50\n",
      "14/14 [==============================] - 0s 3ms/step - loss: 0.6576 - accuracy: 0.5933 - val_loss: 0.6236 - val_accuracy: 0.6709\n",
      "Epoch 4/50\n",
      "14/14 [==============================] - 0s 3ms/step - loss: 0.6428 - accuracy: 0.6112 - val_loss: 0.6378 - val_accuracy: 0.6709\n",
      "Epoch 5/50\n",
      "14/14 [==============================] - 0s 3ms/step - loss: 0.6331 - accuracy: 0.6202 - val_loss: 0.6248 - val_accuracy: 0.6456\n",
      "Epoch 6/50\n",
      "14/14 [==============================] - 0s 3ms/step - loss: 0.6314 - accuracy: 0.6225 - val_loss: 0.6297 - val_accuracy: 0.6456\n",
      "Epoch 7/50\n",
      "14/14 [==============================] - 0s 3ms/step - loss: 0.6260 - accuracy: 0.6225 - val_loss: 0.6094 - val_accuracy: 0.6582\n",
      "Epoch 8/50\n",
      "14/14 [==============================] - 0s 3ms/step - loss: 0.6188 - accuracy: 0.6270 - val_loss: 0.6219 - val_accuracy: 0.6329\n",
      "Epoch 9/50\n",
      "14/14 [==============================] - 0s 3ms/step - loss: 0.6152 - accuracy: 0.6472 - val_loss: 0.6092 - val_accuracy: 0.6709\n",
      "Epoch 10/50\n",
      "14/14 [==============================] - 0s 4ms/step - loss: 0.6117 - accuracy: 0.6517 - val_loss: 0.6140 - val_accuracy: 0.6456\n",
      "Epoch 11/50\n",
      "14/14 [==============================] - 0s 4ms/step - loss: 0.6096 - accuracy: 0.6607 - val_loss: 0.6091 - val_accuracy: 0.6456\n",
      "Epoch 12/50\n",
      "14/14 [==============================] - 0s 4ms/step - loss: 0.6044 - accuracy: 0.6607 - val_loss: 0.6008 - val_accuracy: 0.6329\n",
      "Epoch 13/50\n",
      "14/14 [==============================] - 0s 5ms/step - loss: 0.6005 - accuracy: 0.6652 - val_loss: 0.6099 - val_accuracy: 0.6582\n",
      "Epoch 14/50\n",
      "14/14 [==============================] - 0s 5ms/step - loss: 0.5975 - accuracy: 0.6652 - val_loss: 0.6005 - val_accuracy: 0.6329\n",
      "Epoch 15/50\n",
      "14/14 [==============================] - 0s 4ms/step - loss: 0.5964 - accuracy: 0.6652 - val_loss: 0.5995 - val_accuracy: 0.6329\n",
      "Epoch 16/50\n",
      "14/14 [==============================] - 0s 4ms/step - loss: 0.5921 - accuracy: 0.6742 - val_loss: 0.6125 - val_accuracy: 0.6456\n",
      "Epoch 17/50\n",
      "14/14 [==============================] - 0s 4ms/step - loss: 0.5903 - accuracy: 0.6764 - val_loss: 0.5988 - val_accuracy: 0.6329\n",
      "Epoch 18/50\n",
      "14/14 [==============================] - 0s 5ms/step - loss: 0.5836 - accuracy: 0.6697 - val_loss: 0.5986 - val_accuracy: 0.6076\n",
      "Epoch 19/50\n",
      "14/14 [==============================] - 0s 4ms/step - loss: 0.5805 - accuracy: 0.6742 - val_loss: 0.6080 - val_accuracy: 0.6076\n",
      "Epoch 20/50\n",
      "14/14 [==============================] - 0s 5ms/step - loss: 0.5765 - accuracy: 0.6831 - val_loss: 0.5988 - val_accuracy: 0.6203\n",
      "Epoch 21/50\n",
      "14/14 [==============================] - 0s 5ms/step - loss: 0.5749 - accuracy: 0.6764 - val_loss: 0.5941 - val_accuracy: 0.6582\n",
      "Epoch 22/50\n",
      "14/14 [==============================] - 0s 6ms/step - loss: 0.5721 - accuracy: 0.6787 - val_loss: 0.5970 - val_accuracy: 0.6203\n",
      "Epoch 23/50\n",
      "14/14 [==============================] - 0s 7ms/step - loss: 0.5676 - accuracy: 0.6809 - val_loss: 0.5976 - val_accuracy: 0.6329\n",
      "Epoch 24/50\n",
      "14/14 [==============================] - 0s 8ms/step - loss: 0.5660 - accuracy: 0.6854 - val_loss: 0.5965 - val_accuracy: 0.6329\n",
      "Epoch 25/50\n",
      "14/14 [==============================] - 0s 5ms/step - loss: 0.5618 - accuracy: 0.6854 - val_loss: 0.5899 - val_accuracy: 0.6329\n",
      "Epoch 26/50\n",
      "14/14 [==============================] - 0s 4ms/step - loss: 0.5613 - accuracy: 0.6809 - val_loss: 0.5896 - val_accuracy: 0.6582\n",
      "Epoch 27/50\n",
      "14/14 [==============================] - 0s 4ms/step - loss: 0.5567 - accuracy: 0.6944 - val_loss: 0.5970 - val_accuracy: 0.6329\n",
      "Epoch 28/50\n",
      "14/14 [==============================] - 0s 4ms/step - loss: 0.5542 - accuracy: 0.6899 - val_loss: 0.5910 - val_accuracy: 0.6456\n",
      "Epoch 29/50\n",
      "14/14 [==============================] - 0s 4ms/step - loss: 0.5526 - accuracy: 0.7056 - val_loss: 0.5852 - val_accuracy: 0.6962\n",
      "Epoch 30/50\n",
      "14/14 [==============================] - 0s 3ms/step - loss: 0.5483 - accuracy: 0.7034 - val_loss: 0.5801 - val_accuracy: 0.6962\n",
      "Epoch 31/50\n",
      "14/14 [==============================] - 0s 3ms/step - loss: 0.5498 - accuracy: 0.7281 - val_loss: 0.6000 - val_accuracy: 0.6456\n",
      "Epoch 32/50\n",
      "14/14 [==============================] - 0s 4ms/step - loss: 0.5533 - accuracy: 0.6989 - val_loss: 0.5759 - val_accuracy: 0.6835\n",
      "Epoch 33/50\n",
      "14/14 [==============================] - 0s 4ms/step - loss: 0.5375 - accuracy: 0.7258 - val_loss: 0.6034 - val_accuracy: 0.6582\n",
      "Epoch 34/50\n",
      "14/14 [==============================] - 0s 4ms/step - loss: 0.5357 - accuracy: 0.7303 - val_loss: 0.5836 - val_accuracy: 0.6582\n",
      "Epoch 35/50\n",
      "14/14 [==============================] - 0s 3ms/step - loss: 0.5317 - accuracy: 0.7303 - val_loss: 0.5899 - val_accuracy: 0.6835\n",
      "Epoch 36/50\n",
      "14/14 [==============================] - 0s 4ms/step - loss: 0.5259 - accuracy: 0.7393 - val_loss: 0.5820 - val_accuracy: 0.6582\n",
      "Epoch 37/50\n",
      "14/14 [==============================] - 0s 3ms/step - loss: 0.5239 - accuracy: 0.7393 - val_loss: 0.5819 - val_accuracy: 0.6582\n",
      "Epoch 38/50\n",
      "14/14 [==============================] - 0s 4ms/step - loss: 0.5248 - accuracy: 0.7393 - val_loss: 0.5805 - val_accuracy: 0.6709\n",
      "Epoch 39/50\n",
      "14/14 [==============================] - 0s 4ms/step - loss: 0.5179 - accuracy: 0.7258 - val_loss: 0.5769 - val_accuracy: 0.6582\n",
      "Epoch 40/50\n",
      "14/14 [==============================] - 0s 4ms/step - loss: 0.5174 - accuracy: 0.7236 - val_loss: 0.5918 - val_accuracy: 0.6456\n",
      "Epoch 41/50\n",
      "14/14 [==============================] - 0s 3ms/step - loss: 0.5197 - accuracy: 0.7596 - val_loss: 0.5714 - val_accuracy: 0.6709\n",
      "Epoch 42/50\n",
      "14/14 [==============================] - 0s 4ms/step - loss: 0.5161 - accuracy: 0.7371 - val_loss: 0.5857 - val_accuracy: 0.6582\n",
      "Epoch 43/50\n",
      "14/14 [==============================] - 0s 4ms/step - loss: 0.5068 - accuracy: 0.7348 - val_loss: 0.5838 - val_accuracy: 0.6709\n",
      "Epoch 44/50\n",
      "14/14 [==============================] - 0s 7ms/step - loss: 0.5070 - accuracy: 0.7258 - val_loss: 0.5893 - val_accuracy: 0.6329\n",
      "Epoch 45/50\n",
      "14/14 [==============================] - 0s 4ms/step - loss: 0.5005 - accuracy: 0.7506 - val_loss: 0.5931 - val_accuracy: 0.6456\n",
      "Epoch 46/50\n",
      "14/14 [==============================] - 0s 3ms/step - loss: 0.4996 - accuracy: 0.7596 - val_loss: 0.5819 - val_accuracy: 0.6709\n",
      "Epoch 47/50\n",
      "14/14 [==============================] - 0s 4ms/step - loss: 0.4948 - accuracy: 0.7483 - val_loss: 0.5873 - val_accuracy: 0.6582\n",
      "Epoch 48/50\n",
      "14/14 [==============================] - 0s 3ms/step - loss: 0.4962 - accuracy: 0.7506 - val_loss: 0.5716 - val_accuracy: 0.6835\n",
      "Epoch 49/50\n",
      "14/14 [==============================] - 0s 3ms/step - loss: 0.4925 - accuracy: 0.7461 - val_loss: 0.5927 - val_accuracy: 0.6709\n",
      "Epoch 50/50\n",
      "14/14 [==============================] - 0s 4ms/step - loss: 0.4880 - accuracy: 0.7438 - val_loss: 0.5740 - val_accuracy: 0.6709\n"
     ]
    }
   ],
   "source": [
    "history = model.fit(xtrain,ytrain,epochs=50,validation_split=0.15)"
   ]
  },
  {
   "cell_type": "code",
   "execution_count": 226,
   "metadata": {},
   "outputs": [
    {
     "data": {
      "image/png": "[encoded data removed]",
      "text/plain": [
       "<Figure size 432x288 with 1 Axes>"
      ]
     },
     "metadata": {},
     "output_type": "display_data"
    },
    {
     "data": {
      "image/png": "[encoded data removed]",
      "text/plain": [
       "<Figure size 432x288 with 1 Axes>"
      ]
     },
     "metadata": {},
     "output_type": "display_data"
    }
   ],
   "source": [
    "plt.plot(history.history['accuracy'])\n",
    "plt.plot(history.history['val_accuracy'])\n",
    "plt.title('Model accuracy')\n",
    "plt.ylabel('Accuracy')\n",
    "plt.xlabel('Epoch')\n",
    "plt.legend(['Train', 'validation'], loc='upper left')\n",
    "plt.show()\n",
    "\n",
    "# Plot training & validation loss values\n",
    "plt.plot(history.history['loss'])\n",
    "plt.plot(history.history['val_loss'])\n",
    "plt.title('Model loss')\n",
    "plt.ylabel('Loss')\n",
    "plt.xlabel('Epoch')\n",
    "plt.legend(['Train', 'validation'], loc='upper left')\n",
    "plt.show()"
   ]
  },
  {
   "cell_type": "markdown",
   "metadata": {},
   "source": [
    "We can see that with increase in epoch, the validation accuracy as well as train accuracy is increasing\n",
    "With increase in epochs, both the validation loss and train loss are decreasing\n",
    "This implies that our model is actually learning without much overfitting!!"
   ]
  },
  {
   "cell_type": "code",
   "execution_count": 227,
   "metadata": {},
   "outputs": [
    {
     "name": "stdout",
     "output_type": "stream",
     "text": [
      "5/5 [==============================] - 0s 1ms/step - loss: 0.6733 - accuracy: 0.6260\n"
     ]
    },
    {
     "data": {
      "text/plain": [
       "[0.6733426451683044, 0.6259542107582092]"
      ]
     },
     "execution_count": 227,
     "metadata": {},
     "output_type": "execute_result"
    }
   ],
   "source": [
    "model.evaluate(xtest,ytest)"
   ]
  },
  {
   "cell_type": "markdown",
   "metadata": {},
   "source": [
    "The above model is giving 62% accuracy on the test set!!!"
   ]
  },
  {
   "cell_type": "markdown",
   "metadata": {},
   "source": [
    "Saving the Model"
   ]
  },
  {
   "cell_type": "code",
   "execution_count": 228,
   "metadata": {},
   "outputs": [],
   "source": [
    "model.save('MatchWinnerPredictor.keras')"
   ]
  },
  {
   "cell_type": "markdown",
   "metadata": {},
   "source": [
    "---"
   ]
  }
 ],
 "metadata": {
  "kernelspec": {
   "display_name": "Python 3 (ipykernel)",
   "language": "python",
   "name": "python3"
  },
  "language_info": {
   "codemirror_mode": {
    "name": "ipython",
    "version": 3
   },
   "file_extension": ".py",
   "mimetype": "text/x-python",
   "name": "python",
   "nbconvert_exporter": "python",
   "pygments_lexer": "ipython3",
   "version": "3.7.2"
  }
 },
 "nbformat": 4,
 "nbformat_minor": 2
}
