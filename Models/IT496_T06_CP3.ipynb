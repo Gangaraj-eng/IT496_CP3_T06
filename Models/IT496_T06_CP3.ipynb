{
 "cells": [
  {
   "cell_type": "markdown",
   "metadata": {},
   "source": [
    "# <font size=6 color='green'><center>**IT 496 - Introduction to Data Mining**</center></font>\n",
    "### **<center>Course Project - 03<br/><br/>ICC Cricket World Cup 2023 ML Challange<center>**\n",
    "\n",
    " &emsp; **Group Name : <font color='#0099ff'>DataForce</font>** <br/>\n",
    " &emsp; **Group ID : <font color='#0099ff'>T06</font>**"
   ]
  },
  {
   "cell_type": "code",
   "execution_count": null,
   "metadata": {},
   "outputs": [],
   "source": []
  }
 ],
 "metadata": {
  "language_info": {
   "name": "python"
  }
 },
 "nbformat": 4,
 "nbformat_minor": 2
}
