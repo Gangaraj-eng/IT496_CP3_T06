{
 "cells": [
  {
   "cell_type": "markdown",
   "metadata": {},
   "source": [
    "# <font size=6 color='green'><center>**IT 496 - Introduction to Data Mining**</center></font>\n",
    "### **<center>Course Project - 03<br/><br/>ICC Cricket World Cup 2023 ML Challange<center>**\n",
    "\n",
    " &emsp; **Group Name : <font color='#0099ff'>DataForce</font>** <br/>\n",
    " &emsp; **Group ID : <font color='#0099ff'>T06</font>**"
   ]
  },
  {
   "cell_type": "code",
   "execution_count": 1,
   "metadata": {},
   "outputs": [],
   "source": [
    "# importing required libraries\n",
    "import numpy as np\n",
    "import pandas as pd"
   ]
  },
  {
   "cell_type": "markdown",
   "metadata": {},
   "source": [
    "### <center>Task 1</center>"
   ]
  },
  {
   "cell_type": "markdown",
   "metadata": {},
   "source": [
    "**Problems**\n",
    "We have chosen the following two prediction problems for this task.<br/>\n",
    "a. Predicting the player with the highest number of wickets taken in the tournament<br/>\n",
    "b. Predicting the batsman who will score most runs in\n",
    "the tournament."
   ]
  },
  {
   "cell_type": "markdown",
   "metadata": {},
   "source": [
    "---"
   ]
  },
  {
   "cell_type": "markdown",
   "metadata": {},
   "source": [
    "Task 1a: Predicting the player with highest number of wickets taken"
   ]
  },
  {
   "cell_type": "code",
   "execution_count": 3,
   "metadata": {},
   "outputs": [
    {
     "data": {
      "text/html": [
       "<div>\n",
       "<style scoped>\n",
       "    .dataframe tbody tr th:only-of-type {\n",
       "        vertical-align: middle;\n",
       "    }\n",
       "\n",
       "    .dataframe tbody tr th {\n",
       "        vertical-align: top;\n",
       "    }\n",
       "\n",
       "    .dataframe thead th {\n",
       "        text-align: right;\n",
       "    }\n",
       "</style>\n",
       "<table border=\"1\" class=\"dataframe\">\n",
       "  <thead>\n",
       "    <tr style=\"text-align: right;\">\n",
       "      <th></th>\n",
       "      <th>Team Name</th>\n",
       "      <th>Player name</th>\n",
       "      <th>Specalist</th>\n",
       "      <th>Span</th>\n",
       "      <th>Matches</th>\n",
       "      <th>Innings</th>\n",
       "      <th>Not Out</th>\n",
       "      <th>Runs</th>\n",
       "      <th>Highest Score</th>\n",
       "      <th>Average</th>\n",
       "      <th>BF</th>\n",
       "      <th>Strike Rate</th>\n",
       "      <th>Half Centuries</th>\n",
       "      <th>Centuries</th>\n",
       "      <th>0</th>\n",
       "      <th>Fours</th>\n",
       "      <th>Sixes</th>\n",
       "      <th>Wickets Taken</th>\n",
       "      <th>Catches</th>\n",
       "    </tr>\n",
       "  </thead>\n",
       "  <tbody>\n",
       "    <tr>\n",
       "      <th>0</th>\n",
       "      <td>India</td>\n",
       "      <td>Rohit Sharma</td>\n",
       "      <td>Batsman</td>\n",
       "      <td>2007-2023</td>\n",
       "      <td>259</td>\n",
       "      <td>251</td>\n",
       "      <td>36</td>\n",
       "      <td>10554</td>\n",
       "      <td>264.0</td>\n",
       "      <td>49.08</td>\n",
       "      <td>11530.0</td>\n",
       "      <td>91.53</td>\n",
       "      <td>31.000000</td>\n",
       "      <td>54.0</td>\n",
       "      <td>16.0</td>\n",
       "      <td>978.0</td>\n",
       "      <td>314.0</td>\n",
       "      <td>8.0</td>\n",
       "      <td>92</td>\n",
       "    </tr>\n",
       "    <tr>\n",
       "      <th>1</th>\n",
       "      <td>India</td>\n",
       "      <td>Hardik Pandya</td>\n",
       "      <td>AllRounder</td>\n",
       "      <td>2016-2023</td>\n",
       "      <td>86</td>\n",
       "      <td>61</td>\n",
       "      <td>9</td>\n",
       "      <td>1769</td>\n",
       "      <td>92.0</td>\n",
       "      <td>34.01</td>\n",
       "      <td>1603.0</td>\n",
       "      <td>110.35</td>\n",
       "      <td>3.396552</td>\n",
       "      <td>11.0</td>\n",
       "      <td>4.0</td>\n",
       "      <td>132.0</td>\n",
       "      <td>67.0</td>\n",
       "      <td>84.0</td>\n",
       "      <td>45</td>\n",
       "    </tr>\n",
       "    <tr>\n",
       "      <th>2</th>\n",
       "      <td>India</td>\n",
       "      <td>Shubman Gill</td>\n",
       "      <td>Batsman</td>\n",
       "      <td>2019-2023</td>\n",
       "      <td>41</td>\n",
       "      <td>41</td>\n",
       "      <td>6</td>\n",
       "      <td>2136</td>\n",
       "      <td>208.0</td>\n",
       "      <td>61.02</td>\n",
       "      <td>2090.0</td>\n",
       "      <td>102.20</td>\n",
       "      <td>6.000000</td>\n",
       "      <td>11.0</td>\n",
       "      <td>1.0</td>\n",
       "      <td>243.0</td>\n",
       "      <td>45.0</td>\n",
       "      <td>0.0</td>\n",
       "      <td>30</td>\n",
       "    </tr>\n",
       "    <tr>\n",
       "      <th>3</th>\n",
       "      <td>India</td>\n",
       "      <td>Virat Kohli</td>\n",
       "      <td>Batsman</td>\n",
       "      <td>2008-2023</td>\n",
       "      <td>289</td>\n",
       "      <td>277</td>\n",
       "      <td>44</td>\n",
       "      <td>13626</td>\n",
       "      <td>183.0</td>\n",
       "      <td>58.48</td>\n",
       "      <td>14565.0</td>\n",
       "      <td>93.55</td>\n",
       "      <td>49.000000</td>\n",
       "      <td>70.0</td>\n",
       "      <td>16.0</td>\n",
       "      <td>1276.0</td>\n",
       "      <td>148.0</td>\n",
       "      <td>4.0</td>\n",
       "      <td>150</td>\n",
       "    </tr>\n",
       "    <tr>\n",
       "      <th>4</th>\n",
       "      <td>India</td>\n",
       "      <td>Shreyas Iyer</td>\n",
       "      <td>Batsman</td>\n",
       "      <td>2017-2023</td>\n",
       "      <td>55</td>\n",
       "      <td>50</td>\n",
       "      <td>5</td>\n",
       "      <td>2094</td>\n",
       "      <td>113.0</td>\n",
       "      <td>46.53</td>\n",
       "      <td>2141.0</td>\n",
       "      <td>97.80</td>\n",
       "      <td>3.000000</td>\n",
       "      <td>17.0</td>\n",
       "      <td>1.0</td>\n",
       "      <td>198.0</td>\n",
       "      <td>48.0</td>\n",
       "      <td>0.0</td>\n",
       "      <td>24</td>\n",
       "    </tr>\n",
       "  </tbody>\n",
       "</table>\n",
       "</div>"
      ],
      "text/plain": [
       "  Team Name    Player name   Specalist       Span  Matches  Innings  Not Out  \\\n",
       "0     India   Rohit Sharma     Batsman  2007-2023      259      251       36   \n",
       "1     India  Hardik Pandya  AllRounder  2016-2023       86       61        9   \n",
       "2     India   Shubman Gill     Batsman  2019-2023       41       41        6   \n",
       "3     India    Virat Kohli     Batsman  2008-2023      289      277       44   \n",
       "4     India   Shreyas Iyer     Batsman  2017-2023       55       50        5   \n",
       "\n",
       "    Runs  Highest Score  Average       BF  Strike Rate  Half Centuries  \\\n",
       "0  10554          264.0    49.08  11530.0        91.53       31.000000   \n",
       "1   1769           92.0    34.01   1603.0       110.35        3.396552   \n",
       "2   2136          208.0    61.02   2090.0       102.20        6.000000   \n",
       "3  13626          183.0    58.48  14565.0        93.55       49.000000   \n",
       "4   2094          113.0    46.53   2141.0        97.80        3.000000   \n",
       "\n",
       "   Centuries     0   Fours  Sixes  Wickets Taken  Catches  \n",
       "0       54.0  16.0   978.0  314.0            8.0       92  \n",
       "1       11.0   4.0   132.0   67.0           84.0       45  \n",
       "2       11.0   1.0   243.0   45.0            0.0       30  \n",
       "3       70.0  16.0  1276.0  148.0            4.0      150  \n",
       "4       17.0   1.0   198.0   48.0            0.0       24  "
      ]
     },
     "execution_count": 3,
     "metadata": {},
     "output_type": "execute_result"
    }
   ],
   "source": [
    "# loading the data\n",
    "players_data = pd.read_csv('../Dataset/ICC_Player_Stats.csv')\n",
    "players_data.head()"
   ]
  },
  {
   "cell_type": "code",
   "execution_count": 5,
   "metadata": {},
   "outputs": [
    {
     "data": {
      "text/plain": [
       "Team Name         0\n",
       "Player name       0\n",
       "Specalist         0\n",
       "Span              0\n",
       "Matches           0\n",
       "Innings           0\n",
       "Not Out           0\n",
       "Runs              0\n",
       "Highest Score     0\n",
       "Average           0\n",
       "BF                0\n",
       "Strike Rate       0\n",
       "Half Centuries    0\n",
       "Centuries         0\n",
       "0                 0\n",
       "Fours             0\n",
       "Sixes             0\n",
       "Wickets Taken     0\n",
       "Catches           0\n",
       "dtype: int64"
      ]
     },
     "execution_count": 5,
     "metadata": {},
     "output_type": "execute_result"
    }
   ],
   "source": [
    "# checking for and removing any null values present\n",
    "players_data.isnull().sum()"
   ]
  },
  {
   "cell_type": "markdown",
   "metadata": {},
   "source": [
    "We had already cleaned and processed this data, there are no null values present"
   ]
  },
  {
   "cell_type": "code",
   "execution_count": 7,
   "metadata": {},
   "outputs": [
    {
     "name": "stdout",
     "output_type": "stream",
     "text": [
      "<class 'pandas.core.frame.DataFrame'>\n",
      "RangeIndex: 150 entries, 0 to 149\n",
      "Data columns (total 19 columns):\n",
      " #   Column          Non-Null Count  Dtype  \n",
      "---  ------          --------------  -----  \n",
      " 0   Team Name       150 non-null    object \n",
      " 1   Player name     150 non-null    object \n",
      " 2   Specalist       150 non-null    object \n",
      " 3   Span            150 non-null    object \n",
      " 4   Matches         150 non-null    int64  \n",
      " 5   Innings         150 non-null    int64  \n",
      " 6   Not Out         150 non-null    int64  \n",
      " 7   Runs            150 non-null    int64  \n",
      " 8   Highest Score   150 non-null    float64\n",
      " 9   Average         150 non-null    float64\n",
      " 10  BF              150 non-null    float64\n",
      " 11  Strike Rate     150 non-null    float64\n",
      " 12  Half Centuries  150 non-null    float64\n",
      " 13  Centuries       150 non-null    float64\n",
      " 14  0               150 non-null    float64\n",
      " 15  Fours           150 non-null    float64\n",
      " 16  Sixes           150 non-null    float64\n",
      " 17  Wickets Taken   150 non-null    float64\n",
      " 18  Catches         150 non-null    int64  \n",
      "dtypes: float64(10), int64(5), object(4)\n",
      "memory usage: 22.4+ KB\n"
     ]
    }
   ],
   "source": [
    "players_data.info()"
   ]
  },
  {
   "cell_type": "markdown",
   "metadata": {},
   "source": [
    "There are few Nominal attributes like Team Name, Player Name and Specialist and span which are need to be converted to numerical attributes"
   ]
  },
  {
   "cell_type": "markdown",
   "metadata": {},
   "source": [
    "**Approach**: Our approach is to divide the dataset into 15 parts, and for each part, train the model using other 14 parts and predict the outputs for this single part. This way we predict the outputs for all the 15 parts and take the maximum of that."
   ]
  },
  {
   "cell_type": "code",
   "execution_count": 99,
   "metadata": {},
   "outputs": [
    {
     "name": "stdout",
     "output_type": "stream",
     "text": [
      "15\n"
     ]
    }
   ],
   "source": [
    "# Randomly shuffling the data\n",
    "players_data = players_data.sample(frac=1)\n",
    "data_parts = []\n",
    "N = players_data.shape[0]\n",
    "for i in range(N//10):\n",
    "     df = players_data.iloc[10*i:10*(i+1),:]\n",
    "     data_parts.append(df)\n",
    "\n",
    "print(len(data_parts))"
   ]
  },
  {
   "cell_type": "code",
   "execution_count": 100,
   "metadata": {},
   "outputs": [],
   "source": [
    "from sklearn.preprocessing import LabelEncoder, RobustScaler\n",
    "from sklearn.metrics import mean_squared_error, mean_absolute_error"
   ]
  },
  {
   "cell_type": "code",
   "execution_count": 103,
   "metadata": {},
   "outputs": [],
   "source": [
    "predictions=[]\n",
    "\n",
    "# for each data split, training and testing\n",
    "for i in range(len(data_parts)):\n",
    "    df1 = data_parts[i]\n",
    "    rem = [data_parts[j] for j in range(11) if not j == i]\n",
    "    trainData = pd.concat(rem, axis=0)\n",
    "    xtrain = comb.drop(['Player name','Span','Wickets Taken'],axis=1)\n",
    "    ytrain = comb['Wickets Taken']\n",
    "    xtest= df1.drop(['Player name','Span','Wickets Taken'],axis=1)\n",
    "    ytest = df1['Wickets Taken']\n",
    "\n",
    "    # label encoding\n",
    "    encoder  = LabelEncoder()\n",
    "    xtrain['Team Name'] = encoder.fit_transform(xtrain['Team Name'])\n",
    "    xtest['Team Name'] = encoder.transform(xtest['Team Name'])\n",
    "    xtrain['Specalist'] = encoder.fit_transform(xtrain['Specalist'])\n",
    "    xtest['Specalist'] = encoder.transform(xtest['Specalist'])\n",
    "\n",
    "    # normalization\n",
    "    scaler = RobustScaler()\n",
    "    ytrain = np.array(ytrain)\n",
    "    ytest = np.array(ytest)\n",
    "    xtrain = scaler.fit_transform(xtrain)\n",
    "    xtest = scaler.transform(xtest)\n",
    "    ytrain = scaler.fit_transform(ytrain.reshape(-1,1))\n",
    "    ytest = scaler.transform(ytest.reshape(-1,1))\n",
    "\n",
    "    # hyperparameter tuning and model fitting\n",
    "    regressorModel = xgb.XGBRegressor(objective='reg:squarederror',booster='gbtree')\n",
    "    regressorModel.fit(xtrain,ytrain)\n",
    "    y_pred= regressorModel.predict(xtest)\n",
    "    index=0\n",
    "    for i,row in df1.iterrows():\n",
    "        predictions.append([row['Player name'], y_pred[index]])\n",
    "        index+=1"
   ]
  },
  {
   "cell_type": "code",
   "execution_count": 104,
   "metadata": {},
   "outputs": [
    {
     "data": {
      "text/plain": [
       "'Shakib Al Hasan'"
      ]
     },
     "execution_count": 104,
     "metadata": {},
     "output_type": "execute_result"
    }
   ],
   "source": [
    "# sort according to wickets taken in descending order\n",
    "predictions.sort(key=lambda x:-x[1])\n",
    "predictions[0][0]"
   ]
  },
  {
   "cell_type": "markdown",
   "metadata": {},
   "source": [
    "The model predicted that Shakib Al Hasan will be the highest wicket taker in the tournament"
   ]
  },
  {
   "cell_type": "markdown",
   "metadata": {},
   "source": [
    "**Task 1b**. Predicting the batsman who will score most runs in\n",
    "the tournament."
   ]
  },
  {
   "cell_type": "markdown",
   "metadata": {},
   "source": [
    "Following similar procedure as in the previous task"
   ]
  },
  {
   "cell_type": "code",
   "execution_count": 95,
   "metadata": {},
   "outputs": [],
   "source": [
    "predictions=[]\n",
    "\n",
    "# for each data split, training and testing\n",
    "for i in range(len(data_parts)):\n",
    "    df1 = data_parts[i]\n",
    "    rem = [data_parts[j] for j in range(11) if not j == i]\n",
    "    trainData = pd.concat(rem, axis=0)\n",
    "    xtrain = comb.drop(['Player name','Span','Runs'],axis=1)\n",
    "    ytrain = comb['Runs']\n",
    "    xtest= df1.drop(['Player name','Span','Runs'],axis=1)\n",
    "    ytest = df1['Runs']\n",
    "\n",
    "    # label encoding\n",
    "    encoder  = LabelEncoder()\n",
    "    xtrain['Team Name'] = encoder.fit_transform(xtrain['Team Name'])\n",
    "    xtest['Team Name'] = encoder.transform(xtest['Team Name'])\n",
    "    xtrain['Specalist'] = encoder.fit_transform(xtrain['Specalist'])\n",
    "    xtest['Specalist'] = encoder.transform(xtest['Specalist'])\n",
    "\n",
    "    # normalization\n",
    "    scaler = RobustScaler()\n",
    "    ytrain = np.array(ytrain)\n",
    "    ytest = np.array(ytest)\n",
    "    xtrain = scaler.fit_transform(xtrain)\n",
    "    xtest = scaler.transform(xtest)\n",
    "    ytrain = scaler.fit_transform(ytrain.reshape(-1,1))\n",
    "    ytest = scaler.transform(ytest.reshape(-1,1))\n",
    "\n",
    "    # hyperparameter tuning and model fitting\n",
    "    regressorModel = xgb.XGBRegressor(objective='reg:squarederror',booster='gbtree')\n",
    "    regressorModel.fit(xtrain,ytrain)\n",
    "    y_pred= regressorModel.predict(xtest)\n",
    "    index=0\n",
    "    for i,row in df1.iterrows():\n",
    "        predictions.append([row['Player name'], y_pred[index]])\n",
    "        index+=1"
   ]
  },
  {
   "cell_type": "code",
   "execution_count": 96,
   "metadata": {},
   "outputs": [
    {
     "data": {
      "text/plain": [
       "'Virat Kohli'"
      ]
     },
     "execution_count": 96,
     "metadata": {},
     "output_type": "execute_result"
    }
   ],
   "source": [
    "# sort according to sixes\n",
    "predictions.sort(key=lambda x:-x[1])\n",
    "predictions[0][0]"
   ]
  },
  {
   "cell_type": "markdown",
   "metadata": {},
   "source": [
    "The model predicted that Virat Kohli will have the highest runs in the tournament"
   ]
  },
  {
   "cell_type": "markdown",
   "metadata": {},
   "source": [
    "---"
   ]
  },
  {
   "cell_type": "markdown",
   "metadata": {},
   "source": [
    "### <center>Task 2</center>\n",
    "You are required to predict the two finalist teams in the ICC Cricket World Cup 2023 and the\n",
    "players (11 players for each finalist team) who are likely to be part of these teams. This task\n",
    "involves team composition prediction."
   ]
  },
  {
   "cell_type": "code",
   "execution_count": 2,
   "metadata": {},
   "outputs": [],
   "source": [
    "from teamCompositionPredictor import getTeamCompsition\n",
    "from tensorflow import keras\n",
    "from Helpers import getTeamsMapping,getVenuesMapping, getPlayerRole, getTeamStats"
   ]
  },
  {
   "cell_type": "code",
   "execution_count": 3,
   "metadata": {},
   "outputs": [],
   "source": [
    "def getMatchWinnerPredictor():\n",
    "  # loading the pre-trained model\n",
    "  model = keras.models.load_model('MatchWinnerPredictor.keras')\n",
    "  return model"
   ]
  },
  {
   "cell_type": "code",
   "execution_count": 4,
   "metadata": {},
   "outputs": [],
   "source": [
    "additional_cols1 = ['team1 avg score','team1 avg wickets','team1 avg catches','team1 avg fours',\n",
    "                   'team1 avg sixes','team1 odi rank']\n",
    "additional_cols2 = ['team2 avg score','team2 avg wickets','team2 avg catches','team2 avg fours',\n",
    "                   'team2 avg sixes','team2 odi rank']"
   ]
  },
  {
   "cell_type": "markdown",
   "metadata": {},
   "source": [
    "Predicting for the remaining matches of ICC"
   ]
  },
  {
   "cell_type": "code",
   "execution_count": 5,
   "metadata": {},
   "outputs": [],
   "source": [
    "matches = pd.DataFrame(columns=['season', 'team1', 'team2', 'Venue', 'team1 avg score',\n",
    "       'team1 avg wickets', 'team1 avg catches', 'team1 avg fours',\n",
    "       'team1 avg sixes', 'team1 odi rank', 'team2 avg score',\n",
    "       'team2 avg wickets', 'team2 avg catches', 'team2 avg fours',\n",
    "       'team2 avg sixes', 'team2 odi rank'])"
   ]
  },
  {
   "cell_type": "code",
   "execution_count": 6,
   "metadata": {},
   "outputs": [
    {
     "data": {
      "text/html": [
       "<div>\n",
       "<style scoped>\n",
       "    .dataframe tbody tr th:only-of-type {\n",
       "        vertical-align: middle;\n",
       "    }\n",
       "\n",
       "    .dataframe tbody tr th {\n",
       "        vertical-align: top;\n",
       "    }\n",
       "\n",
       "    .dataframe thead th {\n",
       "        text-align: right;\n",
       "    }\n",
       "</style>\n",
       "<table border=\"1\" class=\"dataframe\">\n",
       "  <thead>\n",
       "    <tr style=\"text-align: right;\">\n",
       "      <th></th>\n",
       "      <th>season</th>\n",
       "      <th>team1</th>\n",
       "      <th>team2</th>\n",
       "      <th>Venue</th>\n",
       "      <th>team1 avg score</th>\n",
       "      <th>team1 avg wickets</th>\n",
       "      <th>team1 avg catches</th>\n",
       "      <th>team1 avg fours</th>\n",
       "      <th>team1 avg sixes</th>\n",
       "      <th>team1 odi rank</th>\n",
       "      <th>team2 avg score</th>\n",
       "      <th>team2 avg wickets</th>\n",
       "      <th>team2 avg catches</th>\n",
       "      <th>team2 avg fours</th>\n",
       "      <th>team2 avg sixes</th>\n",
       "      <th>team2 odi rank</th>\n",
       "    </tr>\n",
       "  </thead>\n",
       "  <tbody>\n",
       "    <tr>\n",
       "      <th>0</th>\n",
       "      <td>2023</td>\n",
       "      <td>India</td>\n",
       "      <td>New Zealand</td>\n",
       "      <td>Wankhede Stadium, Mumbai</td>\n",
       "      <td>25.180872</td>\n",
       "      <td>85.37697</td>\n",
       "      <td>38.8</td>\n",
       "      <td>244.555705</td>\n",
       "      <td>55.894855</td>\n",
       "      <td>1.0</td>\n",
       "      <td>18.430865</td>\n",
       "      <td>72.762424</td>\n",
       "      <td>27.533333</td>\n",
       "      <td>121.666667</td>\n",
       "      <td>25.133333</td>\n",
       "      <td>5.0</td>\n",
       "    </tr>\n",
       "    <tr>\n",
       "      <th>1</th>\n",
       "      <td>2023</td>\n",
       "      <td>South Africa</td>\n",
       "      <td>Australia</td>\n",
       "      <td>Eden Gardens, Kolkata</td>\n",
       "      <td>22.147129</td>\n",
       "      <td>64.220606</td>\n",
       "      <td>20.0</td>\n",
       "      <td>121.0</td>\n",
       "      <td>27.2</td>\n",
       "      <td>3.0</td>\n",
       "      <td>23.453834</td>\n",
       "      <td>59.333333</td>\n",
       "      <td>34.6</td>\n",
       "      <td>191.333333</td>\n",
       "      <td>47.266667</td>\n",
       "      <td>2.0</td>\n",
       "    </tr>\n",
       "    <tr>\n",
       "      <th>2</th>\n",
       "      <td>2023</td>\n",
       "      <td>NaN</td>\n",
       "      <td>NaN</td>\n",
       "      <td>Narendra Modi Stadium, Ahmedabad</td>\n",
       "      <td>NaN</td>\n",
       "      <td>NaN</td>\n",
       "      <td>NaN</td>\n",
       "      <td>NaN</td>\n",
       "      <td>NaN</td>\n",
       "      <td>NaN</td>\n",
       "      <td>NaN</td>\n",
       "      <td>NaN</td>\n",
       "      <td>NaN</td>\n",
       "      <td>NaN</td>\n",
       "      <td>NaN</td>\n",
       "      <td>NaN</td>\n",
       "    </tr>\n",
       "  </tbody>\n",
       "</table>\n",
       "</div>"
      ],
      "text/plain": [
       "  season         team1        team2                             Venue  \\\n",
       "0   2023         India  New Zealand          Wankhede Stadium, Mumbai   \n",
       "1   2023  South Africa    Australia             Eden Gardens, Kolkata   \n",
       "2   2023           NaN          NaN  Narendra Modi Stadium, Ahmedabad   \n",
       "\n",
       "  team1 avg score team1 avg wickets team1 avg catches team1 avg fours  \\\n",
       "0       25.180872          85.37697              38.8      244.555705   \n",
       "1       22.147129         64.220606              20.0           121.0   \n",
       "2             NaN               NaN               NaN             NaN   \n",
       "\n",
       "  team1 avg sixes team1 odi rank team2 avg score team2 avg wickets  \\\n",
       "0       55.894855            1.0       18.430865         72.762424   \n",
       "1            27.2            3.0       23.453834         59.333333   \n",
       "2             NaN            NaN             NaN               NaN   \n",
       "\n",
       "  team2 avg catches team2 avg fours team2 avg sixes team2 odi rank  \n",
       "0         27.533333      121.666667       25.133333            5.0  \n",
       "1              34.6      191.333333       47.266667            2.0  \n",
       "2               NaN             NaN             NaN            NaN  "
      ]
     },
     "execution_count": 6,
     "metadata": {},
     "output_type": "execute_result"
    }
   ],
   "source": [
    "matches.loc[0,['season','team1','team2','Venue']] = ['2023','India','New Zealand','Wankhede Stadium, Mumbai']\n",
    "matches.loc[1,['season','team1','team2','Venue']] = ['2023','South Africa','Australia','Eden Gardens, Kolkata']\n",
    "matches.loc[0,additional_cols1] = getTeamStats(matches.iloc[0]['team1'])\n",
    "matches.loc[0,additional_cols2] = getTeamStats(matches.iloc[0]['team2'])\n",
    "matches.loc[1,additional_cols1] = getTeamStats(matches.iloc[1]['team1'])\n",
    "matches.loc[1,additional_cols2] = getTeamStats(matches.iloc[1]['team2'])\n",
    "# teams in finals is not yet know\n",
    "matches.loc[2,['season','Venue']] = ['2023','Narendra Modi Stadium, Ahmedabad']\n",
    "matches.head()"
   ]
  },
  {
   "cell_type": "code",
   "execution_count": 7,
   "metadata": {},
   "outputs": [],
   "source": [
    "venuesMapping = getVenuesMapping()\n",
    "teamsMapping = getTeamsMapping()\n",
    "matches['Venue'] = matches['Venue'].apply(lambda x:venuesMapping[x])\n",
    "matches.loc[0,'team1'] = teamsMapping[matches.iloc[0]['team1']]\n",
    "matches.loc[0,'team2'] = teamsMapping[matches.loc[0]['team2']]\n",
    "matches.loc[1,'team1'] = teamsMapping[matches.loc[1]['team1']]\n",
    "matches.loc[1,'team2'] = teamsMapping[matches.loc[1]['team2']]"
   ]
  },
  {
   "cell_type": "code",
   "execution_count": 8,
   "metadata": {},
   "outputs": [],
   "source": [
    "nn_model = getMatchWinnerPredictor()"
   ]
  },
  {
   "cell_type": "code",
   "execution_count": 9,
   "metadata": {},
   "outputs": [],
   "source": [
    "# importing the RobustScaler \n",
    "# to normalize using scaler fitted on train data\n",
    "import pickle\n",
    "with open('RobustScaler.pkl','rb') as f:\n",
    "    scaler = pickle.load(f)"
   ]
  },
  {
   "cell_type": "markdown",
   "metadata": {},
   "source": [
    "Semi-Final 1 Prediction"
   ]
  },
  {
   "cell_type": "code",
   "execution_count": 10,
   "metadata": {},
   "outputs": [
    {
     "name": "stdout",
     "output_type": "stream",
     "text": [
      "1/1 [==============================] - 0s 108ms/step\n"
     ]
    },
    {
     "data": {
      "text/plain": [
       "array([[0.6995439, 0.3004561]], dtype=float32)"
      ]
     },
     "execution_count": 10,
     "metadata": {},
     "output_type": "execute_result"
    }
   ],
   "source": [
    "input1 = np.asarray(matches.iloc[0])\n",
    "x1 = scaler.transform(np.expand_dims(input1,axis=0))\n",
    "nn_model.predict(x1)"
   ]
  },
  {
   "cell_type": "markdown",
   "metadata": {},
   "source": [
    "The Model predicted that Team 1(India) wins with probability 0.699 and Team 2(New Zealand) wins with probability 0.3.\n",
    "Thus India is the winner of semi-final 1!!"
   ]
  },
  {
   "cell_type": "markdown",
   "metadata": {},
   "source": [
    "Semi-Final 2 Prediction"
   ]
  },
  {
   "cell_type": "code",
   "execution_count": 11,
   "metadata": {},
   "outputs": [
    {
     "name": "stdout",
     "output_type": "stream",
     "text": [
      "1/1 [==============================] - 0s 27ms/step\n"
     ]
    },
    {
     "data": {
      "text/plain": [
       "array([[0.76192933, 0.23807067]], dtype=float32)"
      ]
     },
     "execution_count": 11,
     "metadata": {},
     "output_type": "execute_result"
    }
   ],
   "source": [
    "input2 = np.asarray(matches.iloc[1])\n",
    "x2 = scaler.transform(np.expand_dims(input2,axis=0))\n",
    "nn_model.predict(x2)"
   ]
  },
  {
   "cell_type": "markdown",
   "metadata": {},
   "source": [
    "The Model predicted that Team 1(South Africa) wins with probability 0.762 and Team 2(Australia) wins with probability 0.238.\n",
    "Thus South Africa is the winner of semi-final 2!!"
   ]
  },
  {
   "cell_type": "markdown",
   "metadata": {},
   "source": [
    "### Team Composition Prediction"
   ]
  },
  {
   "cell_type": "code",
   "execution_count": 12,
   "metadata": {},
   "outputs": [
    {
     "name": "stdout",
     "output_type": "stream",
     "text": [
      "Playing 11 of India : \n",
      "['Shubman Gill' 'Virat Kohli' 'Rohit Sharma' 'KL Rahul' 'Shreyas Iyer'\n",
      " 'Ishan Kishan' 'Mohammed Shami' 'Kuldeep Yadav' 'Jasprit Bumrah'\n",
      " 'Suryakumar Yadav' 'Hardik Pandya']\n",
      "\n",
      "Playing 11 of South Africa\n",
      "['Kagiso Rabada' 'Temba Bavuma (Captain)' 'Quinton de Kock' 'David Miller'\n",
      " 'Aiden Markram' 'Rassie van der Dussen' 'Reeza Hendricks' 'Lungi Ngidi'\n",
      " 'Tabraiz Shamsi' 'Heinrich Klaasen' 'Marco Jansen']\n"
     ]
    }
   ],
   "source": [
    "team1List, team2List = getTeamCompsition(\"India\",\"South Africa\",\"Narendra Modi Stadium, Ahmedabad\")\n",
    "print(\"Playing 11 of India : \")\n",
    "print(team1List)\n",
    "print(\"\\nPlaying 11 of South Africa\")\n",
    "print(team2List)"
   ]
  },
  {
   "cell_type": "markdown",
   "metadata": {},
   "source": [
    "---"
   ]
  },
  {
   "cell_type": "markdown",
   "metadata": {},
   "source": [
    "### <center>Task 3</center>\n",
    "You should predict the winner of the ICC Cricket World Cup 2023."
   ]
  },
  {
   "cell_type": "code",
   "execution_count": 13,
   "metadata": {},
   "outputs": [
    {
     "data": {
      "text/html": [
       "<div>\n",
       "<style scoped>\n",
       "    .dataframe tbody tr th:only-of-type {\n",
       "        vertical-align: middle;\n",
       "    }\n",
       "\n",
       "    .dataframe tbody tr th {\n",
       "        vertical-align: top;\n",
       "    }\n",
       "\n",
       "    .dataframe thead th {\n",
       "        text-align: right;\n",
       "    }\n",
       "</style>\n",
       "<table border=\"1\" class=\"dataframe\">\n",
       "  <thead>\n",
       "    <tr style=\"text-align: right;\">\n",
       "      <th></th>\n",
       "      <th>season</th>\n",
       "      <th>team1</th>\n",
       "      <th>team2</th>\n",
       "      <th>Venue</th>\n",
       "      <th>team1 avg score</th>\n",
       "      <th>team1 avg wickets</th>\n",
       "      <th>team1 avg catches</th>\n",
       "      <th>team1 avg fours</th>\n",
       "      <th>team1 avg sixes</th>\n",
       "      <th>team1 odi rank</th>\n",
       "      <th>team2 avg score</th>\n",
       "      <th>team2 avg wickets</th>\n",
       "      <th>team2 avg catches</th>\n",
       "      <th>team2 avg fours</th>\n",
       "      <th>team2 avg sixes</th>\n",
       "      <th>team2 odi rank</th>\n",
       "    </tr>\n",
       "  </thead>\n",
       "  <tbody>\n",
       "    <tr>\n",
       "      <th>0</th>\n",
       "      <td>2023</td>\n",
       "      <td>5</td>\n",
       "      <td>7</td>\n",
       "      <td>9</td>\n",
       "      <td>25.180872</td>\n",
       "      <td>85.37697</td>\n",
       "      <td>38.8</td>\n",
       "      <td>244.555705</td>\n",
       "      <td>55.894855</td>\n",
       "      <td>1.0</td>\n",
       "      <td>18.430865</td>\n",
       "      <td>72.762424</td>\n",
       "      <td>27.533333</td>\n",
       "      <td>121.666667</td>\n",
       "      <td>25.133333</td>\n",
       "      <td>5.0</td>\n",
       "    </tr>\n",
       "    <tr>\n",
       "      <th>1</th>\n",
       "      <td>2023</td>\n",
       "      <td>9</td>\n",
       "      <td>2</td>\n",
       "      <td>10</td>\n",
       "      <td>22.147129</td>\n",
       "      <td>64.220606</td>\n",
       "      <td>20.0</td>\n",
       "      <td>121.0</td>\n",
       "      <td>27.2</td>\n",
       "      <td>3.0</td>\n",
       "      <td>23.453834</td>\n",
       "      <td>59.333333</td>\n",
       "      <td>34.6</td>\n",
       "      <td>191.333333</td>\n",
       "      <td>47.266667</td>\n",
       "      <td>2.0</td>\n",
       "    </tr>\n",
       "    <tr>\n",
       "      <th>2</th>\n",
       "      <td>2023</td>\n",
       "      <td>5</td>\n",
       "      <td>9</td>\n",
       "      <td>1</td>\n",
       "      <td>25.180872</td>\n",
       "      <td>85.37697</td>\n",
       "      <td>38.8</td>\n",
       "      <td>244.555705</td>\n",
       "      <td>55.894855</td>\n",
       "      <td>1.0</td>\n",
       "      <td>22.147129</td>\n",
       "      <td>64.220606</td>\n",
       "      <td>20.0</td>\n",
       "      <td>121.0</td>\n",
       "      <td>27.2</td>\n",
       "      <td>3.0</td>\n",
       "    </tr>\n",
       "  </tbody>\n",
       "</table>\n",
       "</div>"
      ],
      "text/plain": [
       "  season team1 team2  Venue team1 avg score team1 avg wickets  \\\n",
       "0   2023     5     7      9       25.180872          85.37697   \n",
       "1   2023     9     2     10       22.147129         64.220606   \n",
       "2   2023     5     9      1       25.180872          85.37697   \n",
       "\n",
       "  team1 avg catches team1 avg fours team1 avg sixes team1 odi rank  \\\n",
       "0              38.8      244.555705       55.894855            1.0   \n",
       "1              20.0           121.0            27.2            3.0   \n",
       "2              38.8      244.555705       55.894855            1.0   \n",
       "\n",
       "  team2 avg score team2 avg wickets team2 avg catches team2 avg fours  \\\n",
       "0       18.430865         72.762424         27.533333      121.666667   \n",
       "1       23.453834         59.333333              34.6      191.333333   \n",
       "2       22.147129         64.220606              20.0           121.0   \n",
       "\n",
       "  team2 avg sixes team2 odi rank  \n",
       "0       25.133333            5.0  \n",
       "1       47.266667            2.0  \n",
       "2            27.2            3.0  "
      ]
     },
     "execution_count": 13,
     "metadata": {},
     "output_type": "execute_result"
    }
   ],
   "source": [
    "matches.loc[2,['team1','team2']]=['India','South Africa']\n",
    "matches.loc[2,additional_cols1] = getTeamStats(matches.iloc[2]['team1'])\n",
    "matches.loc[2,additional_cols2] = getTeamStats(matches.iloc[2]['team2'])\n",
    "matches.loc[2,'team1'] = teamsMapping[matches.iloc[2]['team1']]\n",
    "matches.loc[2,'team2'] = teamsMapping[matches.loc[2]['team2']]\n",
    "matches.head()"
   ]
  },
  {
   "cell_type": "code",
   "execution_count": 14,
   "metadata": {},
   "outputs": [
    {
     "name": "stdout",
     "output_type": "stream",
     "text": [
      "1/1 [==============================] - 0s 23ms/step\n"
     ]
    },
    {
     "data": {
      "text/plain": [
       "array([[0.82144415, 0.1785559 ]], dtype=float32)"
      ]
     },
     "execution_count": 14,
     "metadata": {},
     "output_type": "execute_result"
    }
   ],
   "source": [
    "finalInput = np.asarray(matches.iloc[2])\n",
    "x = scaler.transform(np.expand_dims(finalInput,axis=0))\n",
    "nn_model.predict(x)"
   ]
  },
  {
   "cell_type": "markdown",
   "metadata": {},
   "source": [
    "The model predicted 0.82 for Team 1(India) and 0.18 for Team 2(South Africa)"
   ]
  },
  {
   "cell_type": "markdown",
   "metadata": {},
   "source": [
    "The Model predicted the final winner as India with probability 82%"
   ]
  },
  {
   "cell_type": "markdown",
   "metadata": {},
   "source": [
    "---"
   ]
  }
 ],
 "metadata": {
  "kernelspec": {
   "display_name": "Python 3 (ipykernel)",
   "language": "python",
   "name": "python3"
  },
  "language_info": {
   "codemirror_mode": {
    "name": "ipython",
    "version": 3
   },
   "file_extension": ".py",
   "mimetype": "text/x-python",
   "name": "python",
   "nbconvert_exporter": "python",
   "pygments_lexer": "ipython3",
   "version": "3.7.2"
  }
 },
 "nbformat": 4,
 "nbformat_minor": 2
}
